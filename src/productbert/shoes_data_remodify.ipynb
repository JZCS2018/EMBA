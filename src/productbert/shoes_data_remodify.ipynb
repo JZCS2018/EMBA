{
 "cells": [
  {
   "cell_type": "code",
   "execution_count": 1,
   "metadata": {},
   "outputs": [],
   "source": [
    "import pandas as pd"
   ]
  },
  {
   "cell_type": "code",
   "execution_count": 2,
   "metadata": {},
   "outputs": [],
   "source": [
    "def modify_data(file_name):\n",
    "    data = pd.read_pickle(file_name)\n",
    "    data.loc[ data['sequence_left'] == '', 'sequence_left'] = 'blank'\n",
    "    data.loc[ data['sequence_right'] == '', 'sequence_right'] = 'blank'\n",
    "    data.to_pickle(file_name)    "
   ]
  },
  {
   "cell_type": "code",
   "execution_count": 3,
   "metadata": {},
   "outputs": [],
   "source": [
    "files = [\"../../data/processed/wdc-lspc/bert/preprocessed_shoes_train_xlarge_bert_cutBTDS.pkl.gz\",\n",
    "        \"../../data/processed/wdc-lspc/bert/preprocessed_shoes_train_large_bert_cutBTDS.pkl.gz\",\n",
    "        \"../../data/processed/wdc-lspc/bert/preprocessed_shoes_train_medium_bert_cutBTDS.pkl.gz\",\n",
    "        \"../../data/processed/wdc-lspc/bert/preprocessed_shoes_train_small_bert_cutBTDS.pkl.gz\",\n",
    "        \"../../data/processed/wdc-lspc/bert/preprocessed_shoes_gs_bert_cutBTDS.pkl.gz\"]"
   ]
  },
  {
   "cell_type": "code",
   "execution_count": 4,
   "metadata": {},
   "outputs": [],
   "source": [
    "for i in files:\n",
    "    print(i)\n",
    "    modify_data(i)"
   ]
  }
 ],
 "metadata": {
  "kernelspec": {
   "display_name": "Environment (conda_jointbert)",
   "language": "python",
   "name": "conda_jointbert"
  },
  "language_info": {
   "codemirror_mode": {
    "name": "ipython",
    "version": 3
   },
   "file_extension": ".py",
   "mimetype": "text/x-python",
   "name": "python",
   "nbconvert_exporter": "python",
   "pygments_lexer": "ipython3",
   "version": "3.8.3"
  }
 },
 "nbformat": 4,
 "nbformat_minor": 4
}
