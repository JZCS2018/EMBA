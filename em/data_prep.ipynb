{
 "cells": [
  {
   "cell_type": "code",
   "execution_count": 1,
   "id": "4e5308df",
   "metadata": {},
   "outputs": [],
   "source": [
    "import pandas as pd\n",
    "import re\n",
    "import pickle\n",
    "import json\n",
    "from sklearn.preprocessing import LabelEncoder\n",
    "import numpy as np\n",
    "np.random.seed(42)\n",
    "import random\n",
    "random.seed(42)\n",
    "from transformers import AutoTokenizer"
   ]
  },
  {
   "cell_type": "code",
   "execution_count": 2,
   "id": "66ac41f1",
   "metadata": {},
   "outputs": [],
   "source": [
    "dire = '/home/ubuntu/dataset_em/'"
   ]
  },
  {
   "cell_type": "code",
   "execution_count": 3,
   "id": "1a01479c",
   "metadata": {},
   "outputs": [
    {
     "name": "stdout",
     "output_type": "stream",
     "text": [
      "tableA.csv  tableB.csv  test.csv  train.csv  valid.csv\r\n"
     ]
    }
   ],
   "source": [
    "ls /home/ubuntu/dataset_em/amazon_google/"
   ]
  },
  {
   "cell_type": "code",
   "execution_count": 4,
   "id": "6951ca93",
   "metadata": {},
   "outputs": [],
   "source": [
    "ta = pd.read_csv(dire + 'amazon_google/tableA.csv').fillna('')\n",
    "ta['cluster_id_left'] = ta['manufacturer'].tolist()\n",
    "tb = pd.read_csv(dire + 'amazon_google/tableB.csv').fillna('')\n",
    "tb['cluster_id_right'] = tb['manufacturer'].tolist()\n",
    "\n",
    "ttr = pd.read_csv(dire + 'amazon_google/train.csv')\n",
    "ttr.rename(columns={\"ltable_id\": \"id_left\", \"rtable_id\": \"id_right\"},inplace = True)\n",
    "tval = pd.read_csv(dire + 'amazon_google/valid.csv')\n",
    "tval.rename(columns={\"ltable_id\": \"id_left\", \"rtable_id\": \"id_right\"},inplace = True)\n",
    "tte = pd.read_csv(dire + 'amazon_google/test.csv')\n",
    "tte.rename(columns={\"ltable_id\": \"id_left\", \"rtable_id\": \"id_right\"},inplace = True)\n",
    "ta.rename(columns={\"id\": \"id_left\", \"title\": \"title_left\",\"manufacturer\":\"manufacturer_left\", \"price\":\"price_left\"},\n",
    "         inplace = True)\n",
    "tb.rename(columns={\"id\": \"id_right\", \"title\": \"title_right\",\"manufacturer\":\"manufacturer_right\", \"price\":\"price_right\"},\n",
    "         inplace = True)"
   ]
  },
  {
   "cell_type": "code",
   "execution_count": 6,
   "id": "49131cce",
   "metadata": {},
   "outputs": [
    {
     "data": {
      "text/html": [
       "<div>\n",
       "<style scoped>\n",
       "    .dataframe tbody tr th:only-of-type {\n",
       "        vertical-align: middle;\n",
       "    }\n",
       "\n",
       "    .dataframe tbody tr th {\n",
       "        vertical-align: top;\n",
       "    }\n",
       "\n",
       "    .dataframe thead th {\n",
       "        text-align: right;\n",
       "    }\n",
       "</style>\n",
       "<table border=\"1\" class=\"dataframe\">\n",
       "  <thead>\n",
       "    <tr style=\"text-align: right;\">\n",
       "      <th></th>\n",
       "      <th>id_left</th>\n",
       "      <th>title_left</th>\n",
       "      <th>manufacturer_left</th>\n",
       "      <th>price_left</th>\n",
       "      <th>cluster_id_left</th>\n",
       "    </tr>\n",
       "  </thead>\n",
       "  <tbody>\n",
       "    <tr>\n",
       "      <th>0</th>\n",
       "      <td>0</td>\n",
       "      <td>clickart 950 000 premier image pack ( dvd-rom )</td>\n",
       "      <td>broderbund</td>\n",
       "      <td></td>\n",
       "      <td>broderbund</td>\n",
       "    </tr>\n",
       "    <tr>\n",
       "      <th>1</th>\n",
       "      <td>1</td>\n",
       "      <td>ca international arcserve lap/desktop oem 30pk</td>\n",
       "      <td>computer associates</td>\n",
       "      <td></td>\n",
       "      <td>computer associates</td>\n",
       "    </tr>\n",
       "    <tr>\n",
       "      <th>2</th>\n",
       "      <td>2</td>\n",
       "      <td>noah 's ark activity center ( jewel case ages ...</td>\n",
       "      <td>victory multimedia</td>\n",
       "      <td></td>\n",
       "      <td>victory multimedia</td>\n",
       "    </tr>\n",
       "    <tr>\n",
       "      <th>3</th>\n",
       "      <td>3</td>\n",
       "      <td>peachtree by sage premium accounting for nonpr...</td>\n",
       "      <td>sage software</td>\n",
       "      <td>599.99</td>\n",
       "      <td>sage software</td>\n",
       "    </tr>\n",
       "    <tr>\n",
       "      <th>4</th>\n",
       "      <td>4</td>\n",
       "      <td>singing coach unlimited</td>\n",
       "      <td>carry-a-tune technologies</td>\n",
       "      <td>99.99</td>\n",
       "      <td>carry-a-tune technologies</td>\n",
       "    </tr>\n",
       "  </tbody>\n",
       "</table>\n",
       "</div>"
      ],
      "text/plain": [
       "   id_left                                         title_left  \\\n",
       "0        0    clickart 950 000 premier image pack ( dvd-rom )   \n",
       "1        1     ca international arcserve lap/desktop oem 30pk   \n",
       "2        2  noah 's ark activity center ( jewel case ages ...   \n",
       "3        3  peachtree by sage premium accounting for nonpr...   \n",
       "4        4                            singing coach unlimited   \n",
       "\n",
       "           manufacturer_left price_left            cluster_id_left  \n",
       "0                 broderbund                            broderbund  \n",
       "1        computer associates                   computer associates  \n",
       "2         victory multimedia                    victory multimedia  \n",
       "3              sage software     599.99              sage software  \n",
       "4  carry-a-tune technologies      99.99  carry-a-tune technologies  "
      ]
     },
     "execution_count": 6,
     "metadata": {},
     "output_type": "execute_result"
    }
   ],
   "source": [
    "ta.head()"
   ]
  },
  {
   "cell_type": "code",
   "execution_count": 7,
   "id": "b6ecb3fd",
   "metadata": {},
   "outputs": [
    {
     "data": {
      "text/plain": [
       "LabelEncoder()"
      ]
     },
     "execution_count": 7,
     "metadata": {},
     "output_type": "execute_result"
    }
   ],
   "source": [
    "enc = LabelEncoder()\n",
    "cluster_id_set_left = set()\n",
    "cluster_id_set_left.update(ta['cluster_id_left'].tolist())\n",
    "cluster_id_set_right = set()\n",
    "cluster_id_set_right.update(tb['cluster_id_right'].tolist())\n",
    "cluster_id_set_left.update(cluster_id_set_right)\n",
    "enc.fit(list(cluster_id_set_left))"
   ]
  },
  {
   "cell_type": "code",
   "execution_count": 8,
   "id": "da9096e0",
   "metadata": {},
   "outputs": [],
   "source": [
    "def merge_data(df_l, df_r, gs):\n",
    "    res = gs.merge(df_l, on = 'id_left')\n",
    "    res = res.merge(df_r, on = 'id_right') \n",
    "    return res"
   ]
  },
  {
   "cell_type": "code",
   "execution_count": 9,
   "id": "9e245e12",
   "metadata": {},
   "outputs": [],
   "source": [
    "train = merge_data(ta, tb, ttr)\n",
    "val = merge_data(ta, tb, tval)\n",
    "test = merge_data(ta, tb, tte)"
   ]
  },
  {
   "cell_type": "code",
   "execution_count": 10,
   "id": "7c0e859f",
   "metadata": {},
   "outputs": [],
   "source": [
    "tokenizer = AutoTokenizer.from_pretrained('bert-base-uncased')"
   ]
  },
  {
   "cell_type": "code",
   "execution_count": null,
   "id": "dffa28b1",
   "metadata": {},
   "outputs": [],
   "source": [
    "def process_to_bert(dataset, attributes, tokenizer, comb_func, cutting_func=None, multi_encoder=None):\n",
    "    dataset = dataset.fillna('')\n",
    "\n",
    "    if multi_encoder is None:\n",
    "        try:\n",
    "            cluster_id_set_left = set()\n",
    "            cluster_id_set_left.update(dataset['cluster_id_left'].tolist())\n",
    "            cluster_id_set_right = set()\n",
    "            cluster_id_set_right.update(dataset['cluster_id_right'].tolist())\n",
    "            cluster_id_set_left.update(cluster_id_set_right)\n",
    "            dataset = dataset.rename(columns={'cluster_id_left': 'label_multi1', 'cluster_id_right': 'label_multi2'})\n",
    "            label_enc = LabelEncoder()\n",
    "            label_enc.fit(list(cluster_id_set_left))\n",
    "            dataset['label_multi1'] = label_enc.transform(dataset['label_multi1'])\n",
    "            dataset['label_multi2'] = label_enc.transform(dataset['label_multi2'])\n",
    "\n",
    "        except KeyError:\n",
    "            pass\n",
    "    else:\n",
    "        dataset = dataset.rename(columns={'cluster_id_left': 'label_multi1', 'cluster_id_right': 'label_multi2'})\n",
    "        try:\n",
    "            dataset['label_multi1'] = multi_encoder.transform(dataset['label_multi1'])\n",
    "            dataset['label_multi2'] = multi_encoder.transform(dataset['label_multi2'])\n",
    "        except ValueError:\n",
    "            dataset['label_multi1'] = 0\n",
    "            dataset['label_multi2'] = 0\n",
    "\n",
    "    print(f'Before cutting:')\n",
    "    _print_attribute_stats(dataset, attributes)\n",
    "    if cutting_func:\n",
    "        tqdm.pandas(desc='Cutting attributes')\n",
    "        dataset = dataset.progress_apply(cutting_func, axis=1)\n",
    "        print(f'After cutting:')\n",
    "        _print_attribute_stats(dataset, attributes)\n",
    "\n",
    "    dataset['sequence_left'], dataset['sequence_left_titleonly'], dataset['sequence_right'], dataset[\n",
    "        'sequence_right_titleonly'] = comb_func(dataset)\n",
    "\n",
    "    dataset['sequence_left'] = dataset['sequence_left'].str.split()\n",
    "    dataset['sequence_left'] = dataset['sequence_left'].str.join(' ')\n",
    "    dataset['sequence_right'] = dataset['sequence_right'].str.split()\n",
    "    dataset['sequence_right'] = dataset['sequence_right'].str.join(' ')\n",
    "\n",
    "    dataset['sequence_left_titleonly'] = dataset['sequence_left_titleonly'].str.split()\n",
    "    dataset['sequence_left_titleonly'] = dataset['sequence_left_titleonly'].str.join(' ')\n",
    "    dataset['sequence_right_titleonly'] = dataset['sequence_right_titleonly'].str.split()\n",
    "    dataset['sequence_right_titleonly'] = dataset['sequence_right_titleonly'].str.join(' ')\n",
    "\n",
    "    tqdm.pandas(desc='Tokenizing left sequence for inspection')\n",
    "    dataset['sequence_left_inspect'] = dataset['sequence_left'].progress_apply(lambda x: tokenizer.tokenize(x))\n",
    "    dataset['sequence_left_titleonly_inspect'] = dataset['sequence_left_titleonly'].progress_apply(\n",
    "        lambda x: tokenizer.tokenize(x))\n",
    "    tqdm.pandas(desc='Tokenizing right sequence for inspection')\n",
    "    dataset['sequence_right_inspect'] = dataset['sequence_right'].progress_apply(lambda x: tokenizer.tokenize(x))\n",
    "    dataset['sequence_right_titleonly_inspect'] = dataset['sequence_right_titleonly'].progress_apply(\n",
    "        lambda x: tokenizer.tokenize(x))\n",
    "\n",
    "    dataset_combined_length = dataset.apply(\n",
    "        lambda x: len(x['sequence_left_inspect']) + len(x['sequence_right_inspect']), axis=1)\n",
    "    dataset_combined_length_binned = pd.cut(dataset_combined_length, [-1, 32, 64, 128, 256, 512, 50000],\n",
    "                                            labels=['32', '64', '128', '256', '512', '50000'])\n",
    "    print('Full sequence:')\n",
    "    plt.hist(dataset_combined_length_binned)\n",
    "    plt.show()\n",
    "\n",
    "    dataset_combined_length = dataset.apply(\n",
    "        lambda x: len(x['sequence_left_titleonly_inspect']) + len(x['sequence_right_titleonly_inspect']), axis=1)\n",
    "    dataset_combined_length_binned = pd.cut(dataset_combined_length, [-1, 32, 64, 128, 256, 512, 50000],\n",
    "                                            labels=['32', '64', '128', '256', '512', '50000'])\n",
    "    print('Title only sequence:')\n",
    "    plt.hist(dataset_combined_length_binned)\n",
    "    plt.show()\n",
    "\n",
    "    try:\n",
    "        dataset_reduced = dataset[\n",
    "            ['label', 'label_multi1', 'label_multi2', 'pair_id', 'sequence_left', 'sequence_right']]\n",
    "        dataset_reduced_titleonly = dataset[\n",
    "            ['label', 'label_multi1', 'label_multi2', 'pair_id', 'sequence_left_titleonly',\n",
    "             'sequence_right_titleonly']].copy()\n",
    "    except KeyError:\n",
    "        dataset_reduced = dataset[['label', 'pair_id', 'sequence_left', 'sequence_right']]\n",
    "        dataset_reduced_titleonly = dataset[\n",
    "            ['label', 'pair_id', 'sequence_left_titleonly', 'sequence_right_titleonly']].copy()\n",
    "\n",
    "    dataset_reduced_titleonly = dataset_reduced_titleonly.rename(columns={'sequence_left_titleonly': 'sequence_left',\n",
    "                                                                          'sequence_right_titleonly': 'sequence_right'})\n",
    "\n",
    "    dataset_inspect = dataset[\n",
    "        ['sequence_left', 'sequence_left_inspect', 'sequence_left_titleonly', 'sequence_left_titleonly_inspect',\n",
    "         'sequence_right', 'sequence_right_inspect', 'sequence_right_titleonly', 'sequence_right_titleonly_inspect',\n",
    "         'pair_id']]\n",
    "\n",
    "    return dataset_reduced, dataset_reduced_titleonly, dataset_inspect\n"
   ]
  },
  {
   "cell_type": "code",
   "execution_count": null,
   "id": "fee8d852",
   "metadata": {},
   "outputs": [],
   "source": []
  },
  {
   "cell_type": "code",
   "execution_count": null,
   "id": "a7469f78",
   "metadata": {},
   "outputs": [],
   "source": []
  },
  {
   "cell_type": "code",
   "execution_count": null,
   "id": "f9d2c532",
   "metadata": {},
   "outputs": [],
   "source": [
    "def _att_to_seq_amazongoogle(dataset):\n",
    "    seq_left = dataset['manufacturer_left'] + ' ' + dataset['title_left'] + ' ' + ' ' + \\\n",
    "               dataset['price_left'].astype(str)\n",
    "    seq_left_titleonly = dataset['manufacturer_left'] + ' ' + dataset['title_left']\n",
    "    seq_right = dataset['manufacturer_right'] + ' ' + dataset['title_right'] + ' ' + \\\n",
    "                dataset['price_right'].astype(str)\n",
    "    seq_right_titleonly = dataset['manufacturer_right'] + ' ' + dataset['title_right']\n",
    "    return seq_left, seq_left_titleonly, seq_right, seq_right_titleonly"
   ]
  },
  {
   "cell_type": "code",
   "execution_count": null,
   "id": "5588c70e",
   "metadata": {},
   "outputs": [],
   "source": []
  },
  {
   "cell_type": "code",
   "execution_count": null,
   "id": "c267cfeb",
   "metadata": {},
   "outputs": [],
   "source": []
  }
 ],
 "metadata": {
  "kernelspec": {
   "display_name": "Environment (conda_jointbert)",
   "language": "python",
   "name": "conda_jointbert"
  },
  "language_info": {
   "codemirror_mode": {
    "name": "ipython",
    "version": 3
   },
   "file_extension": ".py",
   "mimetype": "text/x-python",
   "name": "python",
   "nbconvert_exporter": "python",
   "pygments_lexer": "ipython3",
   "version": "3.8.3"
  }
 },
 "nbformat": 4,
 "nbformat_minor": 5
}
